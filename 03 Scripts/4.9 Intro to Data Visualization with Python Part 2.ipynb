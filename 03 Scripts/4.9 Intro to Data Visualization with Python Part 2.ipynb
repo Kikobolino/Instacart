{
 "cells": [
  {
   "cell_type": "markdown",
   "id": "abb8e2b5",
   "metadata": {},
   "source": [
    "# 4.9 Intro to Data Visualization with Python Part 2"
   ]
  },
  {
   "cell_type": "markdown",
   "id": "7edb0722",
   "metadata": {},
   "source": [
    "This scirpt contains the following points:\n",
    "## 1. Data Import and Consistency Checks\n",
    "## 2. Excluding Price Outliers\n",
    "## 3. Tasks from Exercise 4.9 Part 2\n"
   ]
  },
  {
   "cell_type": "markdown",
   "id": "b596ac12",
   "metadata": {},
   "source": [
    "## 1. Data Import and Consistency Checks"
   ]
  },
  {
   "cell_type": "code",
   "execution_count": 1,
   "id": "bdbfa03e",
   "metadata": {},
   "outputs": [],
   "source": [
    "import pandas as pd\n",
    "import numpy as np\n",
    "import os\n",
    "import matplotlib.pyplot as plt\n",
    "import seaborn as sns\n",
    "import scipy"
   ]
  },
  {
   "cell_type": "code",
   "execution_count": 2,
   "id": "00748778",
   "metadata": {},
   "outputs": [],
   "source": [
    "# Defining path\n",
    "path = r'C:\\Users\\chris\\OneDrive\\Desktop\\Data Analytics CF\\202203_Instacart Basket Analysis'"
   ]
  },
  {
   "cell_type": "code",
   "execution_count": 3,
   "id": "0fea96dc",
   "metadata": {},
   "outputs": [],
   "source": [
    "# Importing Dataframe\n",
    "instacart_merged = pd.read_pickle(os.path.join(path, '02 Data', 'Prepared Data','instacart_merged_data.pkl'))"
   ]
  },
  {
   "cell_type": "code",
   "execution_count": 4,
   "id": "5a7a2961",
   "metadata": {},
   "outputs": [
    {
     "data": {
      "text/plain": [
       "(32404859, 30)"
      ]
     },
     "execution_count": 4,
     "metadata": {},
     "output_type": "execute_result"
    }
   ],
   "source": [
    "instacart_merged.shape"
   ]
  },
  {
   "cell_type": "code",
   "execution_count": 5,
   "id": "91c6f2f9",
   "metadata": {},
   "outputs": [
    {
     "name": "stdout",
     "output_type": "stream",
     "text": [
      "<class 'pandas.core.frame.DataFrame'>\n",
      "Int64Index: 32404859 entries, 0 to 32404858\n",
      "Data columns (total 30 columns):\n",
      " #   Column                         Dtype  \n",
      "---  ------                         -----  \n",
      " 0   order_id                       int32  \n",
      " 1   user_id                        int32  \n",
      " 2   order_number                   int8   \n",
      " 3   orders_day_of_week             int8   \n",
      " 4   order_hour_of_day              int8   \n",
      " 5   days_since_prior_order_x       float16\n",
      " 6   first_order                    bool   \n",
      " 7   product_id                     int32  \n",
      " 8   add_to_cart_order              int32  \n",
      " 9   reordered                      int8   \n",
      " 10  product_name                   object \n",
      " 11  aisle_id                       int8   \n",
      " 12  department_id                  int8   \n",
      " 13  prices                         float32\n",
      " 14  price_range_loc                object \n",
      " 15  busiest_day                    object \n",
      " 16  busiest_days                   object \n",
      " 17  busiest_period_of_day          object \n",
      " 18  max_order                      int8   \n",
      " 19  loyalty_flag                   object \n",
      " 20  average_price                  float32\n",
      " 21  spending_flag                  object \n",
      " 22  median_days_since_prior_order  float16\n",
      " 23  Frequency_flag                 object \n",
      " 24  gender                         object \n",
      " 25  state                          object \n",
      " 26  age                            int64  \n",
      " 27  n_dependants                   int64  \n",
      " 28  fam_status                     object \n",
      " 29  income                         int64  \n",
      "dtypes: bool(1), float16(2), float32(2), int32(4), int64(3), int8(7), object(11)\n",
      "memory usage: 4.7+ GB\n"
     ]
    }
   ],
   "source": [
    "instacart_merged.info()"
   ]
  },
  {
   "cell_type": "markdown",
   "id": "1142076f",
   "metadata": {},
   "source": [
    "## 2. Excluding price outliers"
   ]
  },
  {
   "cell_type": "code",
   "execution_count": 6,
   "id": "483ac6f2",
   "metadata": {},
   "outputs": [
    {
     "data": {
      "text/html": [
       "<div>\n",
       "<style scoped>\n",
       "    .dataframe tbody tr th:only-of-type {\n",
       "        vertical-align: middle;\n",
       "    }\n",
       "\n",
       "    .dataframe tbody tr th {\n",
       "        vertical-align: top;\n",
       "    }\n",
       "\n",
       "    .dataframe thead th {\n",
       "        text-align: right;\n",
       "    }\n",
       "</style>\n",
       "<table border=\"1\" class=\"dataframe\">\n",
       "  <thead>\n",
       "    <tr style=\"text-align: right;\">\n",
       "      <th></th>\n",
       "      <th>order_id</th>\n",
       "      <th>user_id</th>\n",
       "      <th>order_number</th>\n",
       "      <th>orders_day_of_week</th>\n",
       "      <th>order_hour_of_day</th>\n",
       "      <th>days_since_prior_order_x</th>\n",
       "      <th>first_order</th>\n",
       "      <th>product_id</th>\n",
       "      <th>add_to_cart_order</th>\n",
       "      <th>reordered</th>\n",
       "      <th>...</th>\n",
       "      <th>average_price</th>\n",
       "      <th>spending_flag</th>\n",
       "      <th>median_days_since_prior_order</th>\n",
       "      <th>Frequency_flag</th>\n",
       "      <th>gender</th>\n",
       "      <th>state</th>\n",
       "      <th>age</th>\n",
       "      <th>n_dependants</th>\n",
       "      <th>fam_status</th>\n",
       "      <th>income</th>\n",
       "    </tr>\n",
       "  </thead>\n",
       "  <tbody>\n",
       "    <tr>\n",
       "      <th>1576</th>\n",
       "      <td>912404</td>\n",
       "      <td>17</td>\n",
       "      <td>12</td>\n",
       "      <td>2</td>\n",
       "      <td>14</td>\n",
       "      <td>5.0</td>\n",
       "      <td>False</td>\n",
       "      <td>21553</td>\n",
       "      <td>5</td>\n",
       "      <td>0</td>\n",
       "      <td>...</td>\n",
       "      <td>108.648300</td>\n",
       "      <td>High spender</td>\n",
       "      <td>5.0</td>\n",
       "      <td>Frequent customer</td>\n",
       "      <td>Female</td>\n",
       "      <td>Kansas</td>\n",
       "      <td>39</td>\n",
       "      <td>3</td>\n",
       "      <td>married</td>\n",
       "      <td>150659</td>\n",
       "    </tr>\n",
       "    <tr>\n",
       "      <th>1638</th>\n",
       "      <td>603376</td>\n",
       "      <td>17</td>\n",
       "      <td>22</td>\n",
       "      <td>6</td>\n",
       "      <td>16</td>\n",
       "      <td>4.0</td>\n",
       "      <td>False</td>\n",
       "      <td>21553</td>\n",
       "      <td>3</td>\n",
       "      <td>1</td>\n",
       "      <td>...</td>\n",
       "      <td>108.648300</td>\n",
       "      <td>High spender</td>\n",
       "      <td>5.0</td>\n",
       "      <td>Frequent customer</td>\n",
       "      <td>Female</td>\n",
       "      <td>Kansas</td>\n",
       "      <td>39</td>\n",
       "      <td>3</td>\n",
       "      <td>married</td>\n",
       "      <td>150659</td>\n",
       "    </tr>\n",
       "    <tr>\n",
       "      <th>16522</th>\n",
       "      <td>3264360</td>\n",
       "      <td>135</td>\n",
       "      <td>2</td>\n",
       "      <td>2</td>\n",
       "      <td>21</td>\n",
       "      <td>13.0</td>\n",
       "      <td>False</td>\n",
       "      <td>21553</td>\n",
       "      <td>6</td>\n",
       "      <td>0</td>\n",
       "      <td>...</td>\n",
       "      <td>1154.792358</td>\n",
       "      <td>High spender</td>\n",
       "      <td>12.0</td>\n",
       "      <td>Regular customer</td>\n",
       "      <td>Female</td>\n",
       "      <td>Maryland</td>\n",
       "      <td>30</td>\n",
       "      <td>3</td>\n",
       "      <td>married</td>\n",
       "      <td>120635</td>\n",
       "    </tr>\n",
       "    <tr>\n",
       "      <th>16528</th>\n",
       "      <td>892534</td>\n",
       "      <td>135</td>\n",
       "      <td>3</td>\n",
       "      <td>0</td>\n",
       "      <td>8</td>\n",
       "      <td>12.0</td>\n",
       "      <td>False</td>\n",
       "      <td>21553</td>\n",
       "      <td>3</td>\n",
       "      <td>1</td>\n",
       "      <td>...</td>\n",
       "      <td>1154.792358</td>\n",
       "      <td>High spender</td>\n",
       "      <td>12.0</td>\n",
       "      <td>Regular customer</td>\n",
       "      <td>Female</td>\n",
       "      <td>Maryland</td>\n",
       "      <td>30</td>\n",
       "      <td>3</td>\n",
       "      <td>married</td>\n",
       "      <td>120635</td>\n",
       "    </tr>\n",
       "    <tr>\n",
       "      <th>53672</th>\n",
       "      <td>229704</td>\n",
       "      <td>342</td>\n",
       "      <td>8</td>\n",
       "      <td>1</td>\n",
       "      <td>19</td>\n",
       "      <td>30.0</td>\n",
       "      <td>False</td>\n",
       "      <td>21553</td>\n",
       "      <td>9</td>\n",
       "      <td>0</td>\n",
       "      <td>...</td>\n",
       "      <td>114.426620</td>\n",
       "      <td>High spender</td>\n",
       "      <td>20.0</td>\n",
       "      <td>Regular customer</td>\n",
       "      <td>Female</td>\n",
       "      <td>Minnesota</td>\n",
       "      <td>56</td>\n",
       "      <td>2</td>\n",
       "      <td>married</td>\n",
       "      <td>187328</td>\n",
       "    </tr>\n",
       "    <tr>\n",
       "      <th>...</th>\n",
       "      <td>...</td>\n",
       "      <td>...</td>\n",
       "      <td>...</td>\n",
       "      <td>...</td>\n",
       "      <td>...</td>\n",
       "      <td>...</td>\n",
       "      <td>...</td>\n",
       "      <td>...</td>\n",
       "      <td>...</td>\n",
       "      <td>...</td>\n",
       "      <td>...</td>\n",
       "      <td>...</td>\n",
       "      <td>...</td>\n",
       "      <td>...</td>\n",
       "      <td>...</td>\n",
       "      <td>...</td>\n",
       "      <td>...</td>\n",
       "      <td>...</td>\n",
       "      <td>...</td>\n",
       "      <td>...</td>\n",
       "      <td>...</td>\n",
       "    </tr>\n",
       "    <tr>\n",
       "      <th>32320511</th>\n",
       "      <td>3172853</td>\n",
       "      <td>205650</td>\n",
       "      <td>18</td>\n",
       "      <td>1</td>\n",
       "      <td>9</td>\n",
       "      <td>7.0</td>\n",
       "      <td>False</td>\n",
       "      <td>21553</td>\n",
       "      <td>17</td>\n",
       "      <td>1</td>\n",
       "      <td>...</td>\n",
       "      <td>351.141632</td>\n",
       "      <td>High spender</td>\n",
       "      <td>6.0</td>\n",
       "      <td>Frequent customer</td>\n",
       "      <td>Male</td>\n",
       "      <td>Kentucky</td>\n",
       "      <td>62</td>\n",
       "      <td>0</td>\n",
       "      <td>divorced/widowed</td>\n",
       "      <td>302526</td>\n",
       "    </tr>\n",
       "    <tr>\n",
       "      <th>32347717</th>\n",
       "      <td>2504315</td>\n",
       "      <td>205818</td>\n",
       "      <td>3</td>\n",
       "      <td>5</td>\n",
       "      <td>15</td>\n",
       "      <td>3.0</td>\n",
       "      <td>False</td>\n",
       "      <td>21553</td>\n",
       "      <td>13</td>\n",
       "      <td>0</td>\n",
       "      <td>...</td>\n",
       "      <td>170.073776</td>\n",
       "      <td>High spender</td>\n",
       "      <td>12.5</td>\n",
       "      <td>Regular customer</td>\n",
       "      <td>Male</td>\n",
       "      <td>Maryland</td>\n",
       "      <td>60</td>\n",
       "      <td>1</td>\n",
       "      <td>married</td>\n",
       "      <td>172539</td>\n",
       "    </tr>\n",
       "    <tr>\n",
       "      <th>32347727</th>\n",
       "      <td>1108388</td>\n",
       "      <td>205818</td>\n",
       "      <td>5</td>\n",
       "      <td>4</td>\n",
       "      <td>5</td>\n",
       "      <td>1.0</td>\n",
       "      <td>False</td>\n",
       "      <td>21553</td>\n",
       "      <td>5</td>\n",
       "      <td>1</td>\n",
       "      <td>...</td>\n",
       "      <td>170.073776</td>\n",
       "      <td>High spender</td>\n",
       "      <td>12.5</td>\n",
       "      <td>Regular customer</td>\n",
       "      <td>Male</td>\n",
       "      <td>Maryland</td>\n",
       "      <td>60</td>\n",
       "      <td>1</td>\n",
       "      <td>married</td>\n",
       "      <td>172539</td>\n",
       "    </tr>\n",
       "    <tr>\n",
       "      <th>32380527</th>\n",
       "      <td>1916142</td>\n",
       "      <td>206049</td>\n",
       "      <td>1</td>\n",
       "      <td>2</td>\n",
       "      <td>17</td>\n",
       "      <td>NaN</td>\n",
       "      <td>True</td>\n",
       "      <td>21553</td>\n",
       "      <td>2</td>\n",
       "      <td>0</td>\n",
       "      <td>...</td>\n",
       "      <td>938.031250</td>\n",
       "      <td>High spender</td>\n",
       "      <td>11.0</td>\n",
       "      <td>Regular customer</td>\n",
       "      <td>Female</td>\n",
       "      <td>District of Columbia</td>\n",
       "      <td>23</td>\n",
       "      <td>1</td>\n",
       "      <td>married</td>\n",
       "      <td>169022</td>\n",
       "    </tr>\n",
       "    <tr>\n",
       "      <th>32380551</th>\n",
       "      <td>379732</td>\n",
       "      <td>206049</td>\n",
       "      <td>4</td>\n",
       "      <td>1</td>\n",
       "      <td>14</td>\n",
       "      <td>5.0</td>\n",
       "      <td>False</td>\n",
       "      <td>21553</td>\n",
       "      <td>4</td>\n",
       "      <td>1</td>\n",
       "      <td>...</td>\n",
       "      <td>938.031250</td>\n",
       "      <td>High spender</td>\n",
       "      <td>11.0</td>\n",
       "      <td>Regular customer</td>\n",
       "      <td>Female</td>\n",
       "      <td>District of Columbia</td>\n",
       "      <td>23</td>\n",
       "      <td>1</td>\n",
       "      <td>married</td>\n",
       "      <td>169022</td>\n",
       "    </tr>\n",
       "  </tbody>\n",
       "</table>\n",
       "<p>5127 rows × 30 columns</p>\n",
       "</div>"
      ],
      "text/plain": [
       "          order_id  user_id  order_number  orders_day_of_week  \\\n",
       "1576        912404       17            12                   2   \n",
       "1638        603376       17            22                   6   \n",
       "16522      3264360      135             2                   2   \n",
       "16528       892534      135             3                   0   \n",
       "53672       229704      342             8                   1   \n",
       "...            ...      ...           ...                 ...   \n",
       "32320511   3172853   205650            18                   1   \n",
       "32347717   2504315   205818             3                   5   \n",
       "32347727   1108388   205818             5                   4   \n",
       "32380527   1916142   206049             1                   2   \n",
       "32380551    379732   206049             4                   1   \n",
       "\n",
       "          order_hour_of_day  days_since_prior_order_x  first_order  \\\n",
       "1576                     14                       5.0        False   \n",
       "1638                     16                       4.0        False   \n",
       "16522                    21                      13.0        False   \n",
       "16528                     8                      12.0        False   \n",
       "53672                    19                      30.0        False   \n",
       "...                     ...                       ...          ...   \n",
       "32320511                  9                       7.0        False   \n",
       "32347717                 15                       3.0        False   \n",
       "32347727                  5                       1.0        False   \n",
       "32380527                 17                       NaN         True   \n",
       "32380551                 14                       5.0        False   \n",
       "\n",
       "          product_id  add_to_cart_order  reordered  ... average_price  \\\n",
       "1576           21553                  5          0  ...    108.648300   \n",
       "1638           21553                  3          1  ...    108.648300   \n",
       "16522          21553                  6          0  ...   1154.792358   \n",
       "16528          21553                  3          1  ...   1154.792358   \n",
       "53672          21553                  9          0  ...    114.426620   \n",
       "...              ...                ...        ...  ...           ...   \n",
       "32320511       21553                 17          1  ...    351.141632   \n",
       "32347717       21553                 13          0  ...    170.073776   \n",
       "32347727       21553                  5          1  ...    170.073776   \n",
       "32380527       21553                  2          0  ...    938.031250   \n",
       "32380551       21553                  4          1  ...    938.031250   \n",
       "\n",
       "          spending_flag  median_days_since_prior_order     Frequency_flag  \\\n",
       "1576       High spender                            5.0  Frequent customer   \n",
       "1638       High spender                            5.0  Frequent customer   \n",
       "16522      High spender                           12.0   Regular customer   \n",
       "16528      High spender                           12.0   Regular customer   \n",
       "53672      High spender                           20.0   Regular customer   \n",
       "...                 ...                            ...                ...   \n",
       "32320511   High spender                            6.0  Frequent customer   \n",
       "32347717   High spender                           12.5   Regular customer   \n",
       "32347727   High spender                           12.5   Regular customer   \n",
       "32380527   High spender                           11.0   Regular customer   \n",
       "32380551   High spender                           11.0   Regular customer   \n",
       "\n",
       "          gender                 state age n_dependants        fam_status  \\\n",
       "1576      Female                Kansas  39            3           married   \n",
       "1638      Female                Kansas  39            3           married   \n",
       "16522     Female              Maryland  30            3           married   \n",
       "16528     Female              Maryland  30            3           married   \n",
       "53672     Female             Minnesota  56            2           married   \n",
       "...          ...                   ...  ..          ...               ...   \n",
       "32320511    Male              Kentucky  62            0  divorced/widowed   \n",
       "32347717    Male              Maryland  60            1           married   \n",
       "32347727    Male              Maryland  60            1           married   \n",
       "32380527  Female  District of Columbia  23            1           married   \n",
       "32380551  Female  District of Columbia  23            1           married   \n",
       "\n",
       "          income  \n",
       "1576      150659  \n",
       "1638      150659  \n",
       "16522     120635  \n",
       "16528     120635  \n",
       "53672     187328  \n",
       "...          ...  \n",
       "32320511  302526  \n",
       "32347717  172539  \n",
       "32347727  172539  \n",
       "32380527  169022  \n",
       "32380551  169022  \n",
       "\n",
       "[5127 rows x 30 columns]"
      ]
     },
     "execution_count": 6,
     "metadata": {},
     "output_type": "execute_result"
    }
   ],
   "source": [
    "#Exploring the number of prices over 100 dollars\n",
    "instacart_merged.loc[instacart_merged['prices'] > 100]"
   ]
  },
  {
   "cell_type": "code",
   "execution_count": 7,
   "id": "443c2d5b",
   "metadata": {},
   "outputs": [],
   "source": [
    "# changing all price values over 100 to NaN\n",
    "instacart_merged.loc[instacart_merged['prices'] > 100, 'prices'] = np.nan"
   ]
  },
  {
   "cell_type": "markdown",
   "id": "bc8e2915",
   "metadata": {},
   "source": [
    "## 3. Tasks from Exercise 4.9"
   ]
  },
  {
   "cell_type": "markdown",
   "id": "7328c122",
   "metadata": {},
   "source": [
    "2. If you haven’t done so already, follow the instructions in the Exercise to create a bar chart, a histogram, a scatterplot, and a line chart, using a sample subset for the line chart. "
   ]
  },
  {
   "cell_type": "code",
   "execution_count": 8,
   "id": "abd004b0",
   "metadata": {
    "scrolled": true
   },
   "outputs": [
    {
     "data": {
      "image/png": "[encoded data removed]",
      "text/plain": [
       "<Figure size 432x288 with 1 Axes>"
      ]
     },
     "metadata": {
      "needs_background": "light"
     },
     "output_type": "display_data"
    }
   ],
   "source": [
    "bar_order_day = instacart_merged['orders_day_of_week'].value_counts().sort_index().plot.bar()"
   ]
  },
  {
   "cell_type": "code",
   "execution_count": 9,
   "id": "ca2799bf",
   "metadata": {},
   "outputs": [
    {
     "data": {
      "image/png": "[encoded data removed]",
      "text/plain": [
       "<Figure size 432x288 with 1 Axes>"
      ]
     },
     "metadata": {
      "needs_background": "light"
     },
     "output_type": "display_data"
    }
   ],
   "source": [
    "scatterplot_prices = sns.scatterplot(x = 'prices', y = 'prices',data = instacart_merged)"
   ]
  },
  {
   "cell_type": "code",
   "execution_count": 10,
   "id": "8f3da7e1",
   "metadata": {},
   "outputs": [
    {
     "data": {
      "image/png": "[encoded data removed]",
      "text/plain": [
       "<Figure size 432x288 with 1 Axes>"
      ]
     },
     "metadata": {
      "needs_background": "light"
     },
     "output_type": "display_data"
    }
   ],
   "source": [
    "hist_prices_bin25 = instacart_merged['prices'].plot.hist(bins=25)"
   ]
  },
  {
   "cell_type": "code",
   "execution_count": 11,
   "id": "6e94fb64",
   "metadata": {},
   "outputs": [
    {
     "data": {
      "image/png": "[encoded data removed]",
      "text/plain": [
       "<Figure size 432x288 with 1 Axes>"
      ]
     },
     "metadata": {
      "needs_background": "light"
     },
     "output_type": "display_data"
    }
   ],
   "source": [
    "hist_prices_bin70 = instacart_merged['prices'].plot.hist(bins=70)"
   ]
  },
  {
   "cell_type": "code",
   "execution_count": 12,
   "id": "70f4d00f",
   "metadata": {},
   "outputs": [],
   "source": [
    "#Preparing data for sampling\n",
    "np.random.seed(4)\n",
    "dev = np.random.rand(len(instacart_merged)) <= 0.7"
   ]
  },
  {
   "cell_type": "code",
   "execution_count": 13,
   "id": "52f905ce",
   "metadata": {},
   "outputs": [],
   "source": [
    "# creating a subset containing 70% of the original dataframe\n",
    "big = instacart_merged[dev]"
   ]
  },
  {
   "cell_type": "code",
   "execution_count": 14,
   "id": "9e6f7064",
   "metadata": {},
   "outputs": [],
   "source": [
    "# creating a subset with 30% of the original dataframe\n",
    "small = instacart_merged[~dev]"
   ]
  },
  {
   "cell_type": "code",
   "execution_count": 15,
   "id": "de72320e",
   "metadata": {},
   "outputs": [],
   "source": [
    "# creating a subset for the analysis based on the small sample\n",
    "df_2 = small[['orders_day_of_week','prices']]"
   ]
  },
  {
   "cell_type": "code",
   "execution_count": 16,
   "id": "b7e681cd",
   "metadata": {},
   "outputs": [
    {
     "data": {
      "image/png": "[encoded data removed]",
      "text/plain": [
       "<Figure size 432x288 with 1 Axes>"
      ]
     },
     "metadata": {
      "needs_background": "light"
     },
     "output_type": "display_data"
    }
   ],
   "source": [
    "line = sns.lineplot(data = df_2, x = 'orders_day_of_week', y = 'prices')"
   ]
  },
  {
   "cell_type": "markdown",
   "id": "3b9380bd",
   "metadata": {},
   "source": [
    "3. You need to provide the Instacart senior stakeholders with descriptive findings about sales. Create a histogram of the “order_hour_of_day” column.\n",
    "\n",
    "    In a markdown cell beneath your histogram, describe what the histogram demonstrates.\n"
   ]
  },
  {
   "cell_type": "code",
   "execution_count": 17,
   "id": "9acc720b",
   "metadata": {},
   "outputs": [
    {
     "data": {
      "image/png": "[encoded data removed]",
      "text/plain": [
       "<Figure size 432x288 with 1 Axes>"
      ]
     },
     "metadata": {
      "needs_background": "light"
     },
     "output_type": "display_data"
    }
   ],
   "source": [
    "hist_order_hour = instacart_merged['order_hour_of_day'].plot.hist(bins = 24)"
   ]
  },
  {
   "cell_type": "markdown",
   "id": "35a68ae5",
   "metadata": {},
   "source": [
    "The histogram shows the number of items ordered per hour of the day. \n",
    "The mornng from 0am to 5am is when the least items are ordered (< 500.000 items per hour).\n",
    "In the time from 5am to 9am the ordered items increase, while they reach a peak at 9am (> 2.5 millions) and stay at a high level until 4pm (still above 2.5 millions).\n",
    "After that the number of items ordered gradually decreases until there are less than 500.000 items per hour ordered after 11pm. "
   ]
  },
  {
   "cell_type": "markdown",
   "id": "02bdb56e",
   "metadata": {},
   "source": [
    "4. The marketing team is curious about the distribution of orders among customers in terms of loyalty. Create a bar chart from the “loyalty_flag” column."
   ]
  },
  {
   "cell_type": "code",
   "execution_count": 18,
   "id": "32982051",
   "metadata": {},
   "outputs": [
    {
     "data": {
      "image/png": "[encoded data removed]",
      "text/plain": [
       "<Figure size 432x288 with 1 Axes>"
      ]
     },
     "metadata": {
      "needs_background": "light"
     },
     "output_type": "display_data"
    }
   ],
   "source": [
    "bar_loyalty_flag = instacart_merged['loyalty_flag'].value_counts().plot.bar()"
   ]
  },
  {
   "cell_type": "markdown",
   "id": "5b543f3a",
   "metadata": {},
   "source": [
    "5. Check whether there’s a difference in expenditure (the “prices” column) depending on the hour of the day. (Hint: To check this, you need to use an accurate sample for your line chart!)"
   ]
  },
  {
   "cell_type": "code",
   "execution_count": 19,
   "id": "5b3d9770",
   "metadata": {},
   "outputs": [],
   "source": [
    "# creating a subset for the analysis based on the small sample\n",
    "df3 = small[['order_hour_of_day', 'prices']]"
   ]
  },
  {
   "cell_type": "code",
   "execution_count": 20,
   "id": "8ea64ef3",
   "metadata": {
    "scrolled": true
   },
   "outputs": [
    {
     "data": {
      "image/png": "[encoded data removed]",
      "text/plain": [
       "<Figure size 432x288 with 1 Axes>"
      ]
     },
     "metadata": {
      "needs_background": "light"
     },
     "output_type": "display_data"
    }
   ],
   "source": [
    "line_order_hour_prices = sns.lineplot(data = df3, x = 'order_hour_of_day', y = 'prices')"
   ]
  },
  {
   "cell_type": "markdown",
   "id": "15168dfa",
   "metadata": {},
   "source": [
    "The average prices range from 7.75 to 7.85 dollars in the sample. While it appears that the average price is the lowest at 10am, there price difference, however, to me its not significant as the difference is just a little over 1%. "
   ]
  },
  {
   "cell_type": "markdown",
   "id": "74bcfa2c",
   "metadata": {},
   "source": [
    "6. Now that you have information about customers, you need to conduct some exploratory analysis of customer demographics to inform the targeted marketing campaigns. First, determine whether there’s a connection between age and family status by creating a line chart exploring the connections between age and number of dependents:\n",
    "\n",
    "    In a markdown cell beneath your line chart, describe what the line chart shows.\n"
   ]
  },
  {
   "cell_type": "code",
   "execution_count": 21,
   "id": "6b81331a",
   "metadata": {},
   "outputs": [],
   "source": [
    "# creating a subset for the analysis based on the small sample\n",
    "df4 = small[['age','n_dependants']]"
   ]
  },
  {
   "cell_type": "code",
   "execution_count": 22,
   "id": "7625be8a",
   "metadata": {},
   "outputs": [
    {
     "data": {
      "image/png": "[encoded data removed]",
      "text/plain": [
       "<Figure size 432x288 with 1 Axes>"
      ]
     },
     "metadata": {
      "needs_background": "light"
     },
     "output_type": "display_data"
    }
   ],
   "source": [
    "line_age_dependents = sns.lineplot(data = df4, x = 'age', y = 'n_dependants')"
   ]
  },
  {
   "cell_type": "markdown",
   "id": "d9154a82",
   "metadata": {},
   "source": [
    "Based on the insights gained from the graph there is not connection between age and number of dependents.\n",
    "The average number of dependants ranges from 1.44 to 1.58, so most of the customers have 1 or 2 dependants on average."
   ]
  },
  {
   "cell_type": "markdown",
   "id": "981acf12",
   "metadata": {},
   "source": [
    "7. You’ll also need to explore whether there’s a connection between age and spending power. To visualize this relationship, create a scatterplot using the sns.scatterplot() function.\n",
    "\n",
    "    In a markdown cell beneath your scatterplot, describe what the scatterplot shows.\n"
   ]
  },
  {
   "cell_type": "code",
   "execution_count": 23,
   "id": "36cd44dc",
   "metadata": {},
   "outputs": [
    {
     "data": {
      "image/png": "[encoded data removed]",
      "text/plain": [
       "<Figure size 432x288 with 1 Axes>"
      ]
     },
     "metadata": {
      "needs_background": "light"
     },
     "output_type": "display_data"
    }
   ],
   "source": [
    "scatterplot_age_income = sns.scatterplot(x = 'age', y= 'income', data = instacart_merged)"
   ]
  },
  {
   "cell_type": "markdown",
   "id": "72c06b63",
   "metadata": {},
   "source": [
    "The scatterplot shows that for the age group 18 - ~40 the most customers income ranges up to 200.000 dollars, while some customers have have an income of up to 400.000 dollars.\n",
    "This changes starting after the age of 40 where the income range extends to 300.000 dollars for most customers, this continues for the maximum incomes that range up to ~600.000 dollars."
   ]
  },
  {
   "cell_type": "markdown",
   "id": "7be0cc69",
   "metadata": {},
   "source": [
    "8. Export your visualizations as “.png” files in your relevant project folder."
   ]
  },
  {
   "cell_type": "code",
   "execution_count": 24,
   "id": "14343988",
   "metadata": {},
   "outputs": [],
   "source": [
    "bar_order_day.figure.savefig(os.path.join(path, '04 Analysis', 'Visualizations', 'bar_order_day.png'))"
   ]
  },
  {
   "cell_type": "code",
   "execution_count": 25,
   "id": "cc7dcaa3",
   "metadata": {},
   "outputs": [],
   "source": [
    "scatterplot_prices.figure.savefig(os.path.join(path, '04 Analysis', 'Visualizations', 'scatterplot_prices.png'))"
   ]
  },
  {
   "cell_type": "code",
   "execution_count": 26,
   "id": "37aef5b6",
   "metadata": {},
   "outputs": [],
   "source": [
    "hist_prices_bin25.figure.savefig(os.path.join(path, '04 Analysis', 'Visualizations', 'hist_prices_bin25.png'))"
   ]
  },
  {
   "cell_type": "code",
   "execution_count": 27,
   "id": "b71e2711",
   "metadata": {},
   "outputs": [],
   "source": [
    "hist_prices_bin70.figure.savefig(os.path.join(path, '04 Analysis', 'Visualizations', 'hist_prices_bin70.png'))"
   ]
  },
  {
   "cell_type": "code",
   "execution_count": 28,
   "id": "74e9048b",
   "metadata": {},
   "outputs": [],
   "source": [
    "line.figure.savefig(os.path.join(path, '04 Analysis', 'Visualizations', 'linechart_order_day_prices.png'))"
   ]
  },
  {
   "cell_type": "code",
   "execution_count": 29,
   "id": "8e8b80c0",
   "metadata": {},
   "outputs": [],
   "source": [
    "hist_order_hour.figure.savefig(os.path.join(path, '04 Analysis', 'Visualizations', 'hist_order_hour.png'))"
   ]
  },
  {
   "cell_type": "code",
   "execution_count": 30,
   "id": "3b5f1ad2",
   "metadata": {},
   "outputs": [],
   "source": [
    "bar_loyalty_flag.figure.savefig(os.path.join(path, '04 Analysis', 'Visualizations', 'bar_loyalty_flags.png'))"
   ]
  },
  {
   "cell_type": "code",
   "execution_count": 31,
   "id": "c389f69b",
   "metadata": {},
   "outputs": [],
   "source": [
    "line_order_hour_prices.figure.savefig(os.path.join(path, '04 Analysis', 'Visualizations', 'line_order_hour_prices.png'))"
   ]
  },
  {
   "cell_type": "code",
   "execution_count": 32,
   "id": "316bd44a",
   "metadata": {},
   "outputs": [],
   "source": [
    "scatterplot_age_income.figure.savefig(os.path.join(path, '04 Analysis', 'Visualizations', 'scatterplot_age_income.png'))"
   ]
  },
  {
   "cell_type": "code",
   "execution_count": 35,
   "id": "e005611d",
   "metadata": {},
   "outputs": [],
   "source": [
    "instacart_merged.to_pickle(os.path.join(path, '02 Data', 'Prepared Data', 'instacart_w_visuals_49.pkl'))"
   ]
  },
  {
   "cell_type": "code",
   "execution_count": null,
   "id": "62763661",
   "metadata": {},
   "outputs": [],
   "source": []
  }
 ],
 "metadata": {
  "kernelspec": {
   "display_name": "Python 3 (ipykernel)",
   "language": "python",
   "name": "python3"
  },
  "language_info": {
   "codemirror_mode": {
    "name": "ipython",
    "version": 3
   },
   "file_extension": ".py",
   "mimetype": "text/x-python",
   "name": "python",
   "nbconvert_exporter": "python",
   "pygments_lexer": "ipython3",
   "version": "3.9.7"
  }
 },
 "nbformat": 4,
 "nbformat_minor": 5
}
